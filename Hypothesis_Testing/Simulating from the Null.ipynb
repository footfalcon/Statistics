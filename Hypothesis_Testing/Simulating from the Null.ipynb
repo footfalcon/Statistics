{
 "cells": [
  {
   "cell_type": "markdown",
   "metadata": {},
   "source": [
    "### Simulating From the Null Hypothesis\n",
    "\n",
    "Load in the data below, and follow the questions to assist with answering the quiz questions below.\n",
    "\n",
    "**If you get stuck, notice there is a solution notebook available by pushing the orange jupyter icon in the top left!**"
   ]
  },
  {
   "cell_type": "code",
   "execution_count": 1,
   "metadata": {},
   "outputs": [],
   "source": [
    "import pandas as pd\n",
    "import numpy as np\n",
    "import matplotlib.pyplot as plt\n",
    "\n",
    "%matplotlib inline\n",
    "np.random.seed(42)\n",
    "\n",
    "full_data = pd.read_csv('coffee_dataset.csv')\n",
    "sample_data = full_data.sample(200)"
   ]
  },
  {
   "cell_type": "code",
   "execution_count": 2,
   "metadata": {},
   "outputs": [
    {
     "data": {
      "text/plain": [
       "2974"
      ]
     },
     "execution_count": 2,
     "metadata": {},
     "output_type": "execute_result"
    }
   ],
   "source": [
    "len(full_data)"
   ]
  },
  {
   "cell_type": "markdown",
   "metadata": {},
   "source": [
    "`1.` If you were interested in if the average height for coffee drinkers is the same as for non-coffee drinkers, what would the null and alternative be?  Place them in the cell below, and use your answer to answer the first quiz question below."
   ]
  },
  {
   "cell_type": "markdown",
   "metadata": {},
   "source": []
  },
  {
   "cell_type": "markdown",
   "metadata": {},
   "source": [
    "`2.` If you were interested in if the average height for coffee drinkers is less than non-coffee drinkers, what would the null and alternative be?  Place them in the cell below, and use your answer to answer the second quiz question below."
   ]
  },
  {
   "cell_type": "markdown",
   "metadata": {
    "collapsed": true
   },
   "source": []
  },
  {
   "cell_type": "markdown",
   "metadata": {},
   "source": [
    "`3.` For 10,000 iterations: bootstrap the sample data, calculate the mean height for coffee drinkers and non-coffee drinkers, and calculate the difference in means for each sample.  You will want to have three arrays at the end of the iterations - one for each mean and one for the difference in means.  Use the results of your sampling distribution, to answer the third quiz question below."
   ]
  },
  {
   "cell_type": "code",
   "execution_count": 9,
   "metadata": {},
   "outputs": [],
   "source": [
    "means_hgt_coffee, means_hgt_nocoffee, diffs = [], [], []\n",
    "\n",
    "for _ in range(10000):\n",
    "    bootsample = sample_data.sample(200, replace=True)\n",
    "    mean_hgt_coffee = bootsample[bootsample['drinks_coffee']==True]['height'].mean()\n",
    "    mean_hgt_nocoffee = bootsample[bootsample['drinks_coffee']==False]['height'].mean()\n",
    "        \n",
    "    means_hgt_coffee.append(mean_hgt_coffee)\n",
    "    means_hgt_nocoffee.append(mean_hgt_nocoffee)\n",
    "    diffs.append(mean_hgt_coffee - mean_hgt_nocoffee)"
   ]
  },
  {
   "cell_type": "code",
   "execution_count": 10,
   "metadata": {},
   "outputs": [
    {
     "name": "stdout",
     "output_type": "stream",
     "text": [
      "stdev of the sampling distribution for coffee:  0.248071619252\n",
      "stdev of the sampling distribution for nocoffee:  0.401355541597\n",
      "stdev of the sampling distribution for diffs:  0.466232831836\n"
     ]
    }
   ],
   "source": [
    "print('stdev of the sampling distribution for coffee: ', np.std(means_hgt_coffee))\n",
    "print('stdev of the sampling distribution for nocoffee: ', np.std(means_hgt_nocoffee))\n",
    "print('stdev of the sampling distribution for diffs: ', np.std(diffs))\n"
   ]
  },
  {
   "cell_type": "code",
   "execution_count": 11,
   "metadata": {},
   "outputs": [
    {
     "data": {
      "text/plain": [
       "(array([  1.50000000e+01,   9.00000000e+01,   5.94000000e+02,\n",
       "          2.07000000e+03,   3.21400000e+03,   2.65000000e+03,\n",
       "          1.09900000e+03,   2.37000000e+02,   2.80000000e+01,\n",
       "          3.00000000e+00]),\n",
       " array([ 65.17987406,  65.5215408 ,  65.86320755,  66.20487429,\n",
       "         66.54654104,  66.88820778,  67.22987453,  67.57154127,\n",
       "         67.91320801,  68.25487476,  68.5965415 ]),\n",
       " <a list of 10 Patch objects>)"
      ]
     },
     "execution_count": 11,
     "metadata": {},
     "output_type": "execute_result"
    },
    {
     "data": {
      "image/png": "[encoded data removed]",
      "text/plain": [
       "<matplotlib.figure.Figure at 0x7fe80532aef0>"
      ]
     },
     "metadata": {
      "needs_background": "light"
     },
     "output_type": "display_data"
    }
   ],
   "source": [
    "plt.hist(means_hgt_coffee, alpha=0.5)\n",
    "plt.hist(means_hgt_nocoffee, alpha=0.5)"
   ]
  },
  {
   "cell_type": "code",
   "execution_count": 12,
   "metadata": {},
   "outputs": [
    {
     "data": {
      "text/plain": [
       "(array([  2.70000000e+01,   1.70000000e+02,   9.57000000e+02,\n",
       "          2.41700000e+03,   3.23700000e+03,   2.26100000e+03,\n",
       "          7.69000000e+02,   1.44000000e+02,   1.70000000e+01,\n",
       "          1.00000000e+00]),\n",
       " array([-0.39776239, -0.00827682,  0.38120874,  0.77069431,  1.16017987,\n",
       "         1.54966544,  1.939151  ,  2.32863657,  2.71812213,  3.1076077 ,\n",
       "         3.49709326]),\n",
       " <a list of 10 Patch objects>)"
      ]
     },
     "execution_count": 12,
     "metadata": {},
     "output_type": "execute_result"
    },
    {
     "data": {
      "image/png": "[encoded data removed]",
      "text/plain": [
       "<matplotlib.figure.Figure at 0x7fe80537e2e8>"
      ]
     },
     "metadata": {
      "needs_background": "light"
     },
     "output_type": "display_data"
    }
   ],
   "source": [
    "plt.hist(diffs)"
   ]
  },
  {
   "cell_type": "markdown",
   "metadata": {},
   "source": [
    "`4.` Now, use your observed sampling distribution for the difference in means and [the docs](https://docs.scipy.org/doc/numpy-1.13.0/reference/generated/numpy.random.normal.html) to simulate what you would expect the sampling distribution to be if the null hypothesis is true. You can do this be recentering your distribution at zero. Also, calculate the observed sample mean difference in `sample_data`. Use your solutions to answer the last questions in the quiz below."
   ]
  },
  {
   "cell_type": "code",
   "execution_count": 14,
   "metadata": {},
   "outputs": [
    {
     "data": {
      "text/plain": [
       "(array([  2.00000000e+00,   2.60000000e+01,   2.21000000e+02,\n",
       "          1.03600000e+03,   2.53400000e+03,   3.30500000e+03,\n",
       "          2.02600000e+03,   7.23000000e+02,   1.17000000e+02,\n",
       "          1.00000000e+01]),\n",
       " array([-2.10778848, -1.71498249, -1.3221765 , -0.92937051, -0.53656452,\n",
       "        -0.14375853,  0.24904746,  0.64185345,  1.03465944,  1.42746543,\n",
       "         1.82027142]),\n",
       " <a list of 10 Patch objects>)"
      ]
     },
     "execution_count": 14,
     "metadata": {},
     "output_type": "execute_result"
    },
    {
     "data": {
      "image/png": "[encoded data removed]",
      "text/plain": [
       "<matplotlib.figure.Figure at 0x7fe803151278>"
      ]
     },
     "metadata": {
      "needs_background": "light"
     },
     "output_type": "display_data"
    }
   ],
   "source": [
    "recentred = np.random.normal(0, np.std(diffs), 10000)\n",
    "plt.hist(recentred)"
   ]
  },
  {
   "cell_type": "code",
   "execution_count": null,
   "metadata": {
    "collapsed": true
   },
   "outputs": [],
   "source": []
  },
  {
   "cell_type": "code",
   "execution_count": null,
   "metadata": {
    "collapsed": true
   },
   "outputs": [],
   "source": []
  }
 ],
 "metadata": {
  "kernelspec": {
   "display_name": "Python 3",
   "language": "python",
   "name": "python3"
  },
  "language_info": {
   "codemirror_mode": {
    "name": "ipython",
    "version": 3
   },
   "file_extension": ".py",
   "mimetype": "text/x-python",
   "name": "python",
   "nbconvert_exporter": "python",
   "pygments_lexer": "ipython3",
   "version": "3.6.3"
  }
 },
 "nbformat": 4,
 "nbformat_minor": 2
}
