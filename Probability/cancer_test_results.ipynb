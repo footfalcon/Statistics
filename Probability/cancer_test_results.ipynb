{
 "cells": [
  {
   "cell_type": "markdown",
   "metadata": {
    "collapsed": true
   },
   "source": [
    "# Cancer Test Results"
   ]
  },
  {
   "cell_type": "code",
   "execution_count": 2,
   "metadata": {},
   "outputs": [
    {
     "data": {
      "text/html": [
       "<div>\n",
       "<style>\n",
       "    .dataframe thead tr:only-child th {\n",
       "        text-align: right;\n",
       "    }\n",
       "\n",
       "    .dataframe thead th {\n",
       "        text-align: left;\n",
       "    }\n",
       "\n",
       "    .dataframe tbody tr th {\n",
       "        vertical-align: top;\n",
       "    }\n",
       "</style>\n",
       "<table border=\"1\" class=\"dataframe\">\n",
       "  <thead>\n",
       "    <tr style=\"text-align: right;\">\n",
       "      <th></th>\n",
       "      <th>patient_id</th>\n",
       "      <th>test_result</th>\n",
       "      <th>has_cancer</th>\n",
       "    </tr>\n",
       "  </thead>\n",
       "  <tbody>\n",
       "    <tr>\n",
       "      <th>0</th>\n",
       "      <td>79452</td>\n",
       "      <td>Negative</td>\n",
       "      <td>False</td>\n",
       "    </tr>\n",
       "    <tr>\n",
       "      <th>1</th>\n",
       "      <td>81667</td>\n",
       "      <td>Positive</td>\n",
       "      <td>True</td>\n",
       "    </tr>\n",
       "    <tr>\n",
       "      <th>2</th>\n",
       "      <td>76297</td>\n",
       "      <td>Negative</td>\n",
       "      <td>False</td>\n",
       "    </tr>\n",
       "    <tr>\n",
       "      <th>3</th>\n",
       "      <td>36593</td>\n",
       "      <td>Negative</td>\n",
       "      <td>False</td>\n",
       "    </tr>\n",
       "    <tr>\n",
       "      <th>4</th>\n",
       "      <td>53717</td>\n",
       "      <td>Negative</td>\n",
       "      <td>False</td>\n",
       "    </tr>\n",
       "  </tbody>\n",
       "</table>\n",
       "</div>"
      ],
      "text/plain": [
       "   patient_id test_result  has_cancer\n",
       "0       79452    Negative       False\n",
       "1       81667    Positive        True\n",
       "2       76297    Negative       False\n",
       "3       36593    Negative       False\n",
       "4       53717    Negative       False"
      ]
     },
     "execution_count": 2,
     "metadata": {},
     "output_type": "execute_result"
    }
   ],
   "source": [
    "# load dataset\n",
    "import pandas as pd\n",
    "import numpy as np\n",
    "\n",
    "df = pd.read_csv('cancer_test_data.csv')\n",
    "df.head()"
   ]
  },
  {
   "cell_type": "code",
   "execution_count": 10,
   "metadata": {},
   "outputs": [
    {
     "data": {
      "text/plain": [
       "2914"
      ]
     },
     "execution_count": 10,
     "metadata": {},
     "output_type": "execute_result"
    }
   ],
   "source": [
    "# number of patients\n",
    "num_patients = df.shape[0]\n",
    "num_patients"
   ]
  },
  {
   "cell_type": "code",
   "execution_count": 8,
   "metadata": {},
   "outputs": [
    {
     "data": {
      "text/plain": [
       "306"
      ]
     },
     "execution_count": 8,
     "metadata": {},
     "output_type": "execute_result"
    }
   ],
   "source": [
    "# number of patients with cancer\n",
    "cancer_true = len(df[df['has_cancer']])  # df.has_cancer.sum()\n",
    "cancer_true "
   ]
  },
  {
   "cell_type": "code",
   "execution_count": 9,
   "metadata": {},
   "outputs": [
    {
     "data": {
      "text/plain": [
       "2608"
      ]
     },
     "execution_count": 9,
     "metadata": {},
     "output_type": "execute_result"
    }
   ],
   "source": [
    "# number of patients without cancer\n",
    "# (df.has_cancer == False).sum()\n",
    "\n",
    "cancer_false = len(df[df['has_cancer'] == 0])\n",
    "cancer_false"
   ]
  },
  {
   "cell_type": "code",
   "execution_count": 11,
   "metadata": {},
   "outputs": [
    {
     "data": {
      "text/plain": [
       "0.10501029512697323"
      ]
     },
     "execution_count": 11,
     "metadata": {},
     "output_type": "execute_result"
    }
   ],
   "source": [
    "# proportion of patients with cancer\n",
    "# df.has_cancer.mean()\n",
    "\n",
    "cancer_true / num_patients"
   ]
  },
  {
   "cell_type": "code",
   "execution_count": 12,
   "metadata": {},
   "outputs": [
    {
     "data": {
      "text/plain": [
       "0.8949897048730268"
      ]
     },
     "execution_count": 12,
     "metadata": {},
     "output_type": "execute_result"
    }
   ],
   "source": [
    "# proportion of patients without cancer\n",
    "# 1 - df.has_cancer.mean()\n",
    "\n",
    "cancer_false / num_patients"
   ]
  },
  {
   "cell_type": "code",
   "execution_count": 15,
   "metadata": {},
   "outputs": [
    {
     "name": "stdout",
     "output_type": "stream",
     "text": [
      "Has cancer and tested positive:  277\n",
      "Proportion with cancer and tested positive:  0.9052287581699346\n"
     ]
    }
   ],
   "source": [
    "# proportion of patients with cancer who test positive\n",
    "#(df.query('has_cancer')['test_result'] == 'Positive').mean()\n",
    "\n",
    "true_pos_test = len(df[ (df['has_cancer']) & \\\n",
    "                              (df['test_result'] == 'Positive') ])\n",
    "print(\"Has cancer and tested positive: \", true_pos_test)\n",
    "\n",
    "true_pos_proportion = true_pos_test / cancer_true\n",
    "print(\"Proportion with cancer and tested positive: \", true_pos_proportion)"
   ]
  },
  {
   "cell_type": "code",
   "execution_count": 17,
   "metadata": {},
   "outputs": [
    {
     "name": "stdout",
     "output_type": "stream",
     "text": [
      "Has cancer but tested negative:  29\n",
      "Proportion with cancer but tested negative:  0.09477124183006536\n"
     ]
    }
   ],
   "source": [
    "# proportion of patients with cancer who test negative\n",
    "# (df.query('has_cancer')['test_result'] == 'Negative').mean()\n",
    "\n",
    "false_neg_test = len(df[ (df['has_cancer']) & \\\n",
    "                              (df['test_result'] == 'Negative') ])\n",
    "print(\"Has cancer but tested negative: \", false_neg_test)\n",
    "\n",
    "false_neg_proportion = false_neg_test / cancer_true\n",
    "print(\"Proportion with cancer but tested negative: \", false_neg_proportion)"
   ]
  },
  {
   "cell_type": "code",
   "execution_count": 19,
   "metadata": {},
   "outputs": [
    {
     "name": "stdout",
     "output_type": "stream",
     "text": [
      "No cancer but tested positive:  531\n",
      "Proportion without cancer but tested positive:  0.2036042944785276\n"
     ]
    }
   ],
   "source": [
    "# proportion of patients without cancer who test positive\n",
    "# (df.query('has_cancer == False')['test_result'] == 'Positive').mean()\n",
    "\n",
    "false_pos_test = len(df[ (df['has_cancer'] == 0) & \\\n",
    "                              (df['test_result'] == 'Positive') ])\n",
    "print(\"No cancer but tested positive: \", false_pos_test)\n",
    "\n",
    "false_pos_proportion = false_pos_test / cancer_false\n",
    "print(\"Proportion without cancer but tested positive: \", false_pos_proportion)"
   ]
  },
  {
   "cell_type": "code",
   "execution_count": 20,
   "metadata": {},
   "outputs": [
    {
     "name": "stdout",
     "output_type": "stream",
     "text": [
      "No cancer and tested negative:  2077\n",
      "Proportion without cancer but tested positive:  0.7963957055214724\n"
     ]
    }
   ],
   "source": [
    "# proportion of patients without cancer who test negative\n",
    "# (df.query('has_cancer == False')['test_result'] == 'Negative').mean()\n",
    "\n",
    "true_neg_test = len(df[ (df['has_cancer'] == 0) & \\\n",
    "                              (df['test_result'] == 'Negative') ])\n",
    "print(\"No cancer and tested negative: \", true_neg_test)\n",
    "\n",
    "true_neg_proportion = true_neg_test / cancer_false\n",
    "print(\"Proportion without cancer but tested positive: \", true_neg_proportion)"
   ]
  },
  {
   "cell_type": "code",
   "execution_count": null,
   "metadata": {},
   "outputs": [],
   "source": []
  }
 ],
 "metadata": {
  "kernelspec": {
   "display_name": "Python 3",
   "language": "python",
   "name": "python3"
  },
  "language_info": {
   "codemirror_mode": {
    "name": "ipython",
    "version": 3
   },
   "file_extension": ".py",
   "mimetype": "text/x-python",
   "name": "python",
   "nbconvert_exporter": "python",
   "pygments_lexer": "ipython3",
   "version": "3.7.2"
  }
 },
 "nbformat": 4,
 "nbformat_minor": 2
}
